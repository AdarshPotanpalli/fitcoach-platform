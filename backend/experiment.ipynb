{
 "cells": [
  {
   "cell_type": "code",
   "execution_count": 2,
   "id": "5a6a0e28",
   "metadata": {},
   "outputs": [
    {
     "ename": "SyntaxError",
     "evalue": "invalid syntax (1278512456.py, line 1)",
     "output_type": "error",
     "traceback": [
      "  \u001b[36mCell\u001b[39m\u001b[36m \u001b[39m\u001b[32mIn[2]\u001b[39m\u001b[32m, line 1\u001b[39m\n\u001b[31m    \u001b[39m\u001b[31m```json\u001b[39m\n    ^\n\u001b[31mSyntaxError\u001b[39m\u001b[31m:\u001b[39m invalid syntax\n"
     ]
    }
   ],
   "source": [
    "```json\n",
    "{\n",
    "    \"task1_title\": \"Morning Stretch Routine\",\n",
    "    \"task1_content\": \"Start your day with a gentle stretching routine to wake up your muscles and joints. Spend about 10 minutes focusing on full-body stretches, including neck rolls, shoulder circles, and hamstring stretches. This will help improve flexibility and prepare your body for the day ahead. It's a great way to counteract the effects of a sedentary lifestyle and set a positive tone for staying fit.\",\n",
    "    \"task2_title\": \"Afternoon Functional Workout\",\n",
    "    \"task2_content\": \"In the afternoon, dedicate 30 minutes to a functional fitness workout. Focus on exercises like squats, lunges, push-ups, and planks that engage multiple muscle groups. These exercises will enhance your strength, balance, and coordination. Remember to maintain proper form and breathe steadily. This session will boost your energy levels and help you stay fit while countering the effects of a sedentary lifestyle.\",\n",
    "    \"task3_title\": \"Evening Relaxation Walk\",\n",
    "    \"task3_content\": \"End your day with a relaxing 20-minute walk in the evening. Choose a peaceful route and enjoy the fresh air. Walking is a simple yet effective way to unwind, clear your mind, and gently burn calories. It complements your fitness goals by promoting active recovery and improving circulation. This calming activity will help you wind down and prepare for a restful night's sleep, supporting your overall well-being.\"\n",
    "}\n",
    "```"
   ]
  },
  {
   "cell_type": "code",
   "execution_count": null,
   "id": "05c118f3",
   "metadata": {},
   "outputs": [],
   "source": []
  }
 ],
 "metadata": {
  "kernelspec": {
   "display_name": "ai_coach_venv",
   "language": "python",
   "name": "python3"
  },
  "language_info": {
   "codemirror_mode": {
    "name": "ipython",
    "version": 3
   },
   "file_extension": ".py",
   "mimetype": "text/x-python",
   "name": "python",
   "nbconvert_exporter": "python",
   "pygments_lexer": "ipython3",
   "version": "3.13.3"
  }
 },
 "nbformat": 4,
 "nbformat_minor": 5
}
