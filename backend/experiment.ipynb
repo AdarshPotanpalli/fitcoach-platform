{
 "cells": [
  {
   "cell_type": "code",
   "execution_count": 2,
   "id": "5a6a0e28",
   "metadata": {},
   "outputs": [
    {
     "ename": "SyntaxError",
     "evalue": "invalid syntax (1278512456.py, line 1)",
     "output_type": "error",
     "traceback": [
      "  \u001b[36mCell\u001b[39m\u001b[36m \u001b[39m\u001b[32mIn[2]\u001b[39m\u001b[32m, line 1\u001b[39m\n\u001b[31m    \u001b[39m\u001b[31m```json\u001b[39m\n    ^\n\u001b[31mSyntaxError\u001b[39m\u001b[31m:\u001b[39m invalid syntax\n"
     ]
    }
   ],
   "source": [
    "```json\n",
    "{\n",
    "    \"task1_title\": \"Morning Stretch Routine\",\n",
    "    \"task1_content\": \"Start your day with a gentle stretching routine to wake up your muscles and joints. Spend about 10 minutes focusing on full-body stretches, including neck rolls, shoulder circles, and hamstring stretches. This will help improve flexibility and prepare your body for the day ahead. It's a great way to counteract the effects of a sedentary lifestyle and set a positive tone for staying fit.\",\n",
    "    \"task2_title\": \"Afternoon Functional Workout\",\n",
    "    \"task2_content\": \"In the afternoon, dedicate 30 minutes to a functional fitness workout. Focus on exercises like squats, lunges, push-ups, and planks that engage multiple muscle groups. These exercises will enhance your strength, balance, and coordination. Remember to maintain proper form and breathe steadily. This session will boost your energy levels and help you stay fit while countering the effects of a sedentary lifestyle.\",\n",
    "    \"task3_title\": \"Evening Relaxation Walk\",\n",
    "    \"task3_content\": \"End your day with a relaxing 20-minute walk in the evening. Choose a peaceful route and enjoy the fresh air. Walking is a simple yet effective way to unwind, clear your mind, and gently burn calories. It complements your fitness goals by promoting active recovery and improving circulation. This calming activity will help you wind down and prepare for a restful night's sleep, supporting your overall well-being.\"\n",
    "}\n",
    "```"
   ]
  },
  {
   "cell_type": "code",
   "execution_count": 8,
   "id": "05c118f3",
   "metadata": {},
   "outputs": [],
   "source": [
    "import json\n",
    "content = json.dumps(\n",
    "{\n",
    "    \"task1_title\": \"Morning Stretch Routine\",\n",
    "    \"task1_content\": json.dumps({\n",
    "        \"step_1\": \"Start with neck rolls and shoulder circles to loosen up the upper body.\",\n",
    "        \"step_2\": \"Do 5–10 minutes of gentle hamstring and back stretches.\",\n",
    "        \"step_3\": \"Finish with deep breathing and light mobility drills to energize.\"\n",
    "    }),\n",
    "    \"task1_timings\": \"07:00 AM - 07:30 AM\",\n",
    "    \"task1_tip\": \"Play calming instrumental music to enhance relaxation during stretches.\",\n",
    "\n",
    "    \"task2_title\": \"Afternoon Chair Workout\",\n",
    "    \"task2_content\": json.dumps({\n",
    "        \"step_1\": \"Perform seated leg lifts and ankle rotations for 10 minutes.\",\n",
    "        \"step_2\": \"Do 2 sets of 10 chair squats and light arm curls with water bottles.\",\n",
    "        \"step_3\": \"Cool down with shoulder rolls and relaxed breathing.\"\n",
    "    }),\n",
    "    \"task2_timings\": \"01:00 PM - 01:30 PM\",\n",
    "    \"task2_tip\": \"Watch your favorite show while working out to stay motivated.\",\n",
    "\n",
    "    \"task3_title\": \"Evening Relaxation Walk\",\n",
    "    \"task3_content\": json.dumps({\n",
    "        \"step_1\": \"Begin with a gentle 5-minute warm-up walk around your home.\",\n",
    "        \"step_2\": \"Walk at a relaxed pace for 15 minutes while maintaining good posture.\",\n",
    "        \"step_3\": \"End with standing stretches for your legs and lower back.\"\n",
    "    }),\n",
    "    \"task3_timings\": \"06:30 PM - 07:00 PM\",\n",
    "    \"task3_tip\": \"Listen to an audiobook or podcast to make the walk more enjoyable.\"\n",
    "})"
   ]
  },
  {
   "cell_type": "code",
   "execution_count": 9,
   "id": "10144be7",
   "metadata": {},
   "outputs": [],
   "source": [
    "import json\n",
    "content_loaded = json.loads(content)"
   ]
  },
  {
   "cell_type": "code",
   "execution_count": 12,
   "id": "3eae30b6",
   "metadata": {},
   "outputs": [
    {
     "data": {
      "text/plain": [
       "str"
      ]
     },
     "execution_count": 12,
     "metadata": {},
     "output_type": "execute_result"
    }
   ],
   "source": [
    "type(content_loaded[\"task1_content\"])"
   ]
  },
  {
   "cell_type": "code",
   "execution_count": 4,
   "id": "9496ffed",
   "metadata": {},
   "outputs": [
    {
     "data": {
      "text/plain": [
       "'23 hrs 55 mins'"
      ]
     },
     "execution_count": 4,
     "metadata": {},
     "output_type": "execute_result"
    }
   ],
   "source": [
    "from datetime import datetime\n",
    "datetime.now().strftime(\"%H hrs %M mins\")"
   ]
  },
  {
   "cell_type": "code",
   "execution_count": null,
   "id": "9e991032",
   "metadata": {},
   "outputs": [],
   "source": [
    "from frontend.pages.ai_coach import stream_from_api\n",
    "\n",
    "pr"
   ]
  }
 ],
 "metadata": {
  "kernelspec": {
   "display_name": "ai_coach_venv",
   "language": "python",
   "name": "python3"
  },
  "language_info": {
   "codemirror_mode": {
    "name": "ipython",
    "version": 3
   },
   "file_extension": ".py",
   "mimetype": "text/x-python",
   "name": "python",
   "nbconvert_exporter": "python",
   "pygments_lexer": "ipython3",
   "version": "3.13.3"
  }
 },
 "nbformat": 4,
 "nbformat_minor": 5
}
